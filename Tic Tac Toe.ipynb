{
 "cells": [
  {
   "cell_type": "code",
   "execution_count": 2,
   "id": "8c0e90cf-2019-4c19-8dd6-40df07c4d593",
   "metadata": {},
   "outputs": [
    {
     "name": "stdout",
     "output_type": "stream",
     "text": [
      "X| | \n",
      "-+-+-\n",
      " | | \n",
      "-+-+-\n",
      " | | \n",
      "\n",
      "\n"
     ]
    },
    {
     "name": "stdin",
     "output_type": "stream",
     "text": [
      "Enter position for O:  5\n"
     ]
    },
    {
     "name": "stdout",
     "output_type": "stream",
     "text": [
      "X| | \n",
      "-+-+-\n",
      " |O| \n",
      "-+-+-\n",
      " | | \n",
      "\n",
      "\n",
      "X|X| \n",
      "-+-+-\n",
      " |O| \n",
      "-+-+-\n",
      " | | \n",
      "\n",
      "\n"
     ]
    },
    {
     "name": "stdin",
     "output_type": "stream",
     "text": [
      "Enter position for O:  3\n"
     ]
    },
    {
     "name": "stdout",
     "output_type": "stream",
     "text": [
      "X|X|O\n",
      "-+-+-\n",
      " |O| \n",
      "-+-+-\n",
      " | | \n",
      "\n",
      "\n",
      "X|X|O\n",
      "-+-+-\n",
      " |O| \n",
      "-+-+-\n",
      "X| | \n",
      "\n",
      "\n"
     ]
    },
    {
     "name": "stdin",
     "output_type": "stream",
     "text": [
      "Enter position for O:  4\n"
     ]
    },
    {
     "name": "stdout",
     "output_type": "stream",
     "text": [
      "X|X|O\n",
      "-+-+-\n",
      "O|O| \n",
      "-+-+-\n",
      "X| | \n",
      "\n",
      "\n",
      "X|X|O\n",
      "-+-+-\n",
      "O|O|X\n",
      "-+-+-\n",
      "X| | \n",
      "\n",
      "\n"
     ]
    },
    {
     "name": "stdin",
     "output_type": "stream",
     "text": [
      "Enter position for O:  9\n"
     ]
    },
    {
     "name": "stdout",
     "output_type": "stream",
     "text": [
      "X|X|O\n",
      "-+-+-\n",
      "O|O|X\n",
      "-+-+-\n",
      "X| |O\n",
      "\n",
      "\n",
      "X|X|O\n",
      "-+-+-\n",
      "O|O|X\n",
      "-+-+-\n",
      "X|X|O\n",
      "\n",
      "\n",
      "Draw!\n"
     ]
    },
    {
     "ename": "KeyError",
     "evalue": "0",
     "output_type": "error",
     "traceback": [
      "\u001b[1;31m---------------------------------------------------------------------------\u001b[0m",
      "\u001b[1;31mKeyError\u001b[0m                                  Traceback (most recent call last)",
      "Cell \u001b[1;32mIn[2], line 102\u001b[0m\n\u001b[0;32m     99\u001b[0m        \u001b[38;5;28;01mreturn\u001b[39;00m bestScore\n\u001b[0;32m    101\u001b[0m \u001b[38;5;28;01mwhile\u001b[39;00m \u001b[38;5;129;01mnot\u001b[39;00m checkWin():\n\u001b[1;32m--> 102\u001b[0m    compMove()\n\u001b[0;32m    103\u001b[0m    \u001b[38;5;28;01mif\u001b[39;00m \u001b[38;5;129;01mnot\u001b[39;00m checkWin() \u001b[38;5;129;01mand\u001b[39;00m \u001b[38;5;129;01mnot\u001b[39;00m checkDraw():\n\u001b[0;32m    104\u001b[0m        playerMove()\n",
      "Cell \u001b[1;32mIn[2], line 76\u001b[0m, in \u001b[0;36mcompMove\u001b[1;34m()\u001b[0m\n\u001b[0;32m     74\u001b[0m             bestScore\u001b[38;5;241m=\u001b[39mscore\n\u001b[0;32m     75\u001b[0m             bestMove\u001b[38;5;241m=\u001b[39mkey\n\u001b[1;32m---> 76\u001b[0m insertLetter(bot, bestMove)\n",
      "Cell \u001b[1;32mIn[2], line 45\u001b[0m, in \u001b[0;36minsertLetter\u001b[1;34m(letter, position)\u001b[0m\n\u001b[0;32m     44\u001b[0m \u001b[38;5;28;01mdef\u001b[39;00m \u001b[38;5;21minsertLetter\u001b[39m(letter, position):\n\u001b[1;32m---> 45\u001b[0m    \u001b[38;5;28;01mif\u001b[39;00m spaceFree(position):\n\u001b[0;32m     46\u001b[0m        board[position]\u001b[38;5;241m=\u001b[39mletter\n\u001b[0;32m     47\u001b[0m        printBoard(board)\n",
      "Cell \u001b[1;32mIn[2], line 14\u001b[0m, in \u001b[0;36mspaceFree\u001b[1;34m(pos)\u001b[0m\n\u001b[0;32m     13\u001b[0m \u001b[38;5;28;01mdef\u001b[39;00m \u001b[38;5;21mspaceFree\u001b[39m(pos):\n\u001b[1;32m---> 14\u001b[0m    \u001b[38;5;28;01mreturn\u001b[39;00m board[pos]\u001b[38;5;241m==\u001b[39m\u001b[38;5;124m'\u001b[39m\u001b[38;5;124m \u001b[39m\u001b[38;5;124m'\u001b[39m\n",
      "\u001b[1;31mKeyError\u001b[0m: 0"
     ]
    }
   ],
   "source": [
    "board={1:' ',2:' ',3:' ',\n",
    "       4:' ',5:' ',6:' ',\n",
    "       7:' ',8:' ',9:' '}\n",
    "\n",
    "def printBoard(board):\n",
    "   print(board[1]+'|'+board[2]+'|'+board[3])\n",
    "   print('-+-+-')\n",
    "   print(board[4]+'|'+board[5]+'|'+board[6])\n",
    "   print('-+-+-')\n",
    "   print(board[7]+'|'+board[8]+'|'+board[9])\n",
    "   print('\\n')\n",
    "\n",
    "def spaceFree(pos):\n",
    "   return board[pos]==' '\n",
    "\n",
    "def checkWin():\n",
    "   if(board[1]==board[2]==board[3] and board[1]!=' '): return True\n",
    "   if(board[4]==board[5]==board[6] and board[4]!=' '): return True\n",
    "   if(board[7]==board[8]==board[9] and board[7]!=' '): return True\n",
    "   if(board[1]==board[5]==board[9] and board[1]!=' '): return True\n",
    "   if(board[3]==board[5]==board[7] and board[3]!=' '): return True\n",
    "   if(board[1]==board[4]==board[7] and board[1]!=' '): return True\n",
    "   if(board[2]==board[5]==board[8] and board[2]!=' '): return True\n",
    "   if(board[3]==board[6]==board[9] and board[3]!=' '): return True\n",
    "   return False\n",
    "\n",
    "def checkMoveForWin(move):\n",
    "   if(board[1]==board[2]==board[3]==move): return True\n",
    "   if(board[4]==board[5]==board[6]==move): return True\n",
    "   if(board[7]==board[8]==board[9]==move): return True\n",
    "   if(board[1]==board[5]==board[9]==move): return True\n",
    "   if(board[3]==board[5]==board[7]==move): return True\n",
    "   if(board[1]==board[4]==board[7]==move): return True\n",
    "   if(board[2]==board[5]==board[8]==move): return True\n",
    "   if(board[3]==board[6]==board[9]==move): return True\n",
    "   return False\n",
    "\n",
    "def checkDraw():\n",
    "   for key in board.keys():\n",
    "       if board[key]==' ':\n",
    "           return False\n",
    "   return True\n",
    "\n",
    "def insertLetter(letter, position):\n",
    "   if spaceFree(position):\n",
    "       board[position]=letter\n",
    "       printBoard(board)\n",
    "       if checkDraw():\n",
    "           print('Draw!')\n",
    "       elif checkWin():\n",
    "           if letter=='X': print('Bot wins!')\n",
    "           else: print('You win!')\n",
    "   else:\n",
    "       print('Position taken, pick another.')\n",
    "       position=int(input('Enter new position: '))\n",
    "       insertLetter(letter, position)\n",
    "\n",
    "player='O'\n",
    "bot='X'\n",
    "\n",
    "def playerMove():\n",
    "   position=int(input('Enter position for O: '))\n",
    "   insertLetter(player, position)\n",
    "\n",
    "def compMove():\n",
    "   bestScore=-1000\n",
    "   bestMove=0\n",
    "   for key in board.keys():\n",
    "       if board[key]==' ':\n",
    "           board[key]=bot\n",
    "           score=minimax(board, False)\n",
    "           board[key]=' '\n",
    "           if score>bestScore:\n",
    "               bestScore=score\n",
    "               bestMove=key\n",
    "   insertLetter(bot, bestMove)\n",
    "\n",
    "def minimax(board, isMaximizing):\n",
    "   if checkMoveForWin(bot): return 1\n",
    "   if checkMoveForWin(player): return -1\n",
    "   if checkDraw(): return 0\n",
    "   if isMaximizing:\n",
    "       bestScore=-1000\n",
    "       for key in board.keys():\n",
    "           if board[key]==' ':\n",
    "               board[key]=bot\n",
    "               score=minimax(board, False)\n",
    "               board[key]=' '\n",
    "               bestScore=max(score, bestScore)\n",
    "       return bestScore\n",
    "   else:\n",
    "       bestScore=1000\n",
    "       for key in board.keys():\n",
    "           if board[key]==' ':\n",
    "               board[key]=player\n",
    "               score=minimax(board, True)\n",
    "               board[key]=' '\n",
    "               bestScore=min(score, bestScore)\n",
    "       return bestScore\n",
    "\n",
    "while not checkWin():\n",
    "   compMove()\n",
    "   if not checkWin() and not checkDraw():\n",
    "       playerMove()\n"
   ]
  },
  {
   "cell_type": "code",
   "execution_count": 3,
   "id": "01f7d2a9-eb9a-4b0a-ac2a-447579a88c77",
   "metadata": {},
   "outputs": [
    {
     "name": "stdout",
     "output_type": "stream",
     "text": [
      "X| | \n",
      "-+-+-\n",
      " | | \n",
      "-+-+-\n",
      " | | \n",
      "\n"
     ]
    },
    {
     "name": "stdin",
     "output_type": "stream",
     "text": [
      "Enter pos for O:  5\n"
     ]
    },
    {
     "name": "stdout",
     "output_type": "stream",
     "text": [
      "X| | \n",
      "-+-+-\n",
      " |O| \n",
      "-+-+-\n",
      " | | \n",
      "\n",
      "X|X| \n",
      "-+-+-\n",
      " |O| \n",
      "-+-+-\n",
      " | | \n",
      "\n"
     ]
    },
    {
     "name": "stdin",
     "output_type": "stream",
     "text": [
      "Enter pos for O:  3\n"
     ]
    },
    {
     "name": "stdout",
     "output_type": "stream",
     "text": [
      "X|X|O\n",
      "-+-+-\n",
      " |O| \n",
      "-+-+-\n",
      " | | \n",
      "\n",
      "X|X|O\n",
      "-+-+-\n",
      " |O| \n",
      "-+-+-\n",
      "X| | \n",
      "\n"
     ]
    },
    {
     "name": "stdin",
     "output_type": "stream",
     "text": [
      "Enter pos for O:  4\n"
     ]
    },
    {
     "name": "stdout",
     "output_type": "stream",
     "text": [
      "X|X|O\n",
      "-+-+-\n",
      "O|O| \n",
      "-+-+-\n",
      "X| | \n",
      "\n",
      "X|X|O\n",
      "-+-+-\n",
      "O|O|X\n",
      "-+-+-\n",
      "X| | \n",
      "\n"
     ]
    },
    {
     "name": "stdin",
     "output_type": "stream",
     "text": [
      "Enter pos for O:  5\n",
      "Taken! Enter again:  7\n",
      "Taken! Enter again:  9\n"
     ]
    },
    {
     "name": "stdout",
     "output_type": "stream",
     "text": [
      "X|X|O\n",
      "-+-+-\n",
      "O|O|X\n",
      "-+-+-\n",
      "X| |O\n",
      "\n",
      "X|X|O\n",
      "-+-+-\n",
      "O|O|X\n",
      "-+-+-\n",
      "X|X|O\n",
      "\n",
      "Draw!\n"
     ]
    }
   ],
   "source": [
    "board={i:' ' for i in range(1,10)}\n",
    "player, bot = 'O','X'\n",
    "\n",
    "def printBoard():\n",
    "    print(board[1]+'|'+board[2]+'|'+board[3]);print('-+-+-')\n",
    "    print(board[4]+'|'+board[5]+'|'+board[6]);print('-+-+-')\n",
    "    print(board[7]+'|'+board[8]+'|'+board[9]);print()\n",
    "\n",
    "def win(m):\n",
    "    return (board[1]==board[2]==board[3]==m or\n",
    "            board[4]==board[5]==board[6]==m or\n",
    "            board[7]==board[8]==board[9]==m or\n",
    "            board[1]==board[5]==board[9]==m or\n",
    "            board[3]==board[5]==board[7]==m or\n",
    "            board[1]==board[4]==board[7]==m or\n",
    "            board[2]==board[5]==board[8]==m or\n",
    "            board[3]==board[6]==board[9]==m)\n",
    "\n",
    "def draw(): return all(board[i] != ' ' for i in board)\n",
    "\n",
    "def insert(m,pos):\n",
    "    if board[pos]==' ':\n",
    "        board[pos]=m; printBoard()\n",
    "        if win(m): print(\"Bot wins!\" if m=='X' else \"You win!\")\n",
    "        elif draw(): print(\"Draw!\")\n",
    "    else:\n",
    "        insert(m,int(input(\"Taken! Enter again: \")))\n",
    "\n",
    "def minimax(isMax):\n",
    "    if win(bot): return 1\n",
    "    if win(player): return -1\n",
    "    if draw(): return 0\n",
    "    if isMax:\n",
    "        best=-1000\n",
    "        for i in board:\n",
    "            if board[i]==' ':\n",
    "                board[i]=bot\n",
    "                best=max(best,minimax(False))\n",
    "                board[i]=' '\n",
    "        return best\n",
    "    else:\n",
    "        best=1000\n",
    "        for i in board:\n",
    "            if board[i]==' ':\n",
    "                board[i]=player\n",
    "                best=min(best,minimax(True))\n",
    "                board[i]=' '\n",
    "        return best\n",
    "\n",
    "def compMove():\n",
    "    best,bestMove=-1000,0\n",
    "    for i in board:\n",
    "        if board[i]==' ':\n",
    "            board[i]=bot\n",
    "            score=minimax(False)\n",
    "            board[i]=' '\n",
    "            if score>best: best, bestMove=score,i\n",
    "    insert(bot,bestMove)\n",
    "\n",
    "def playerMove(): insert(player,int(input(\"Enter pos for O: \")))\n",
    "\n",
    "while not win(bot) and not win(player) and not draw():\n",
    "    compMove()\n",
    "    if not win(bot) and not draw(): playerMove()\n"
   ]
  },
  {
   "cell_type": "code",
   "execution_count": 5,
   "id": "ef2c5b5c-9cc8-434a-a45b-4c5909c9446d",
   "metadata": {},
   "outputs": [
    {
     "name": "stdout",
     "output_type": "stream",
     "text": [
      " | | \n",
      "-+-+-\n",
      " | | \n",
      "-+-+-\n",
      " | | \n",
      "\n"
     ]
    },
    {
     "name": "stdin",
     "output_type": "stream",
     "text": [
      "Enter position for X (1-9):  7\n"
     ]
    },
    {
     "name": "stdout",
     "output_type": "stream",
     "text": [
      " | | \n",
      "-+-+-\n",
      " | | \n",
      "-+-+-\n",
      "X| | \n",
      "\n",
      " | | \n",
      "-+-+-\n",
      " |O| \n",
      "-+-+-\n",
      "X| | \n",
      "\n"
     ]
    },
    {
     "name": "stdin",
     "output_type": "stream",
     "text": [
      "Enter position for X (1-9):  1\n"
     ]
    },
    {
     "name": "stdout",
     "output_type": "stream",
     "text": [
      "X| | \n",
      "-+-+-\n",
      " |O| \n",
      "-+-+-\n",
      "X| | \n",
      "\n",
      "X| | \n",
      "-+-+-\n",
      "O|O| \n",
      "-+-+-\n",
      "X| | \n",
      "\n"
     ]
    },
    {
     "name": "stdin",
     "output_type": "stream",
     "text": [
      "Enter position for X (1-9):  6\n"
     ]
    },
    {
     "name": "stdout",
     "output_type": "stream",
     "text": [
      "X| | \n",
      "-+-+-\n",
      "O|O|X\n",
      "-+-+-\n",
      "X| | \n",
      "\n",
      "X|O| \n",
      "-+-+-\n",
      "O|O|X\n",
      "-+-+-\n",
      "X| | \n",
      "\n"
     ]
    },
    {
     "name": "stdin",
     "output_type": "stream",
     "text": [
      "Enter position for X (1-9):  8\n"
     ]
    },
    {
     "name": "stdout",
     "output_type": "stream",
     "text": [
      "X|O| \n",
      "-+-+-\n",
      "O|O|X\n",
      "-+-+-\n",
      "X|X| \n",
      "\n",
      "X|O| \n",
      "-+-+-\n",
      "O|O|X\n",
      "-+-+-\n",
      "X|X|O\n",
      "\n"
     ]
    },
    {
     "name": "stdin",
     "output_type": "stream",
     "text": [
      "Enter position for X (1-9):  3\n"
     ]
    },
    {
     "name": "stdout",
     "output_type": "stream",
     "text": [
      "X|O|X\n",
      "-+-+-\n",
      "O|O|X\n",
      "-+-+-\n",
      "X|X|O\n",
      "\n",
      "Draw!\n"
     ]
    }
   ],
   "source": [
    "board = {i: ' ' for i in range(1, 10)}\n",
    "player, bot = 'X', 'O'\n",
    "\n",
    "def printBoard():\n",
    "    print(board[1]+'|'+board[2]+'|'+board[3]); print('-+-+-')\n",
    "    print(board[4]+'|' +board[5]+'|' +board[6]); print('-+-+-')\n",
    "    print(board[7]+'|' +board[8]+'|' +board[9]); print()\n",
    "\n",
    "def win(m):\n",
    "    return (board[1]==board[2]==board[3]==m or\n",
    "            board[4]==board[5]==board[6]==m or\n",
    "            board[7]==board[8]==board[9]==m or\n",
    "            board[1]==board[4]==board[7]==m or\n",
    "            board[2]==board[5]==board[8]==m or\n",
    "            board[3]==board[6]==board[9]==m or\n",
    "            board[1]==board[5]==board[9]==m or\n",
    "            board[3]==board[5]==board[7]==m)\n",
    "\n",
    "def draw():\n",
    "    return all(board[i] != ' ' for i in board)\n",
    "\n",
    "def insert(m, pos):\n",
    "    board[pos] = m\n",
    "    printBoard()\n",
    "    if win(m): print(\"You win!\" if m==player else \"Bot wins!\")\n",
    "    elif draw(): print(\"Draw!\")\n",
    "\n",
    "def get_free_positions():\n",
    "    return [i for i in board if board[i]==' ']\n",
    "\n",
    "def minimax(isMax):\n",
    "    if win(bot): return 1\n",
    "    if win(player): return -1\n",
    "    if draw(): return 0\n",
    "    if isMax:\n",
    "        best = -1000\n",
    "        for i in get_free_positions():\n",
    "            board[i] = bot\n",
    "            best = max(best, minimax(False))\n",
    "            board[i] = ' '\n",
    "        return best\n",
    "    else:\n",
    "        best = 1000\n",
    "        for i in get_free_positions():\n",
    "            board[i] = player\n",
    "            best = min(best, minimax(True))\n",
    "            board[i] = ' '\n",
    "        return best\n",
    "\n",
    "def compMove():\n",
    "    best, move = -1000, None\n",
    "    for i in get_free_positions():\n",
    "        board[i] = bot\n",
    "        score = minimax(False)\n",
    "        board[i] = ' '\n",
    "        if score > best:\n",
    "            best, move = score, i\n",
    "    insert(bot, move)\n",
    "\n",
    "def playerMove():\n",
    "    while True:\n",
    "        try:\n",
    "            pos = int(input(\"Enter position for X (1-9): \"))\n",
    "            if pos in board and board[pos]==' ':\n",
    "                insert(player, pos)\n",
    "                break\n",
    "            else:\n",
    "                print(\"Invalid/occupied. Try again.\")\n",
    "        except:\n",
    "            print(\"Please enter a number 1-9.\")\n",
    "\n",
    "printBoard()\n",
    "while not win(player) and not win(bot) and not draw():\n",
    "    playerMove()\n",
    "    if win(player) or draw(): break\n",
    "    compMove()\n"
   ]
  },
  {
   "cell_type": "code",
   "execution_count": 10,
   "id": "35e2608b-308b-418e-a1ca-ed359751b458",
   "metadata": {},
   "outputs": [
    {
     "name": "stdin",
     "output_type": "stream",
     "text": [
      "Enter Location of Vacuum (A/B):  B\n",
      "Enter status of B (0=clean,1=dirty):  0\n",
      "Enter status of A (0=clean,1=dirty):  1\n"
     ]
    },
    {
     "name": "stdout",
     "output_type": "stream",
     "text": [
      "Initial Goal State {'A': '0', 'B': '0'}\n",
      "Vacuum is placed in Location B\n",
      "Location B is already clean.\n",
      "Location A is Dirty.\n",
      "Moving LEFT to Location A.\n",
      "Cost: 1\n",
      "Cost: 2\n",
      "Location A has been Cleaned.\n",
      "GOAL STATE: {'A': '0', 'B': '0'}\n",
      "Performance Measurement: 2\n"
     ]
    }
   ],
   "source": [
    "def vacuum_world():\n",
    "    goal_state = {'A': '0', 'B': '0'}\n",
    "    cost = 0\n",
    "    location_input = input(\"Enter Location of Vacuum (A/B): \").strip().upper()\n",
    "    if location_input not in ('A', 'B'):\n",
    "        print(\"Invalid location\"); return\n",
    "    status_input = input(f\"Enter status of {location_input} (0=clean,1=dirty): \").strip()\n",
    "    other = 'B' if location_input == 'A' else 'A'\n",
    "    status_input_complement = input(f\"Enter status of {other} (0=clean,1=dirty): \").strip()\n",
    "\n",
    "    print(\"Initial Goal State\", goal_state)\n",
    "\n",
    "    if location_input == 'A':\n",
    "        print(\"Vacuum is placed in Location A\")\n",
    "        if status_input == '1':\n",
    "            print(\"Location A is Dirty.\")\n",
    "            goal_state['A'] = '0'\n",
    "            cost += 1\n",
    "            print(\"Cost:\", cost)\n",
    "            print(\"Location A has been Cleaned.\")\n",
    "        else:\n",
    "            print(\"Location A is already clean.\")\n",
    "        if status_input_complement == '1':\n",
    "            print(\"Location B is Dirty.\")\n",
    "            print(\"Moving RIGHT to Location B.\")\n",
    "            cost += 1\n",
    "            print(\"Cost:\", cost)\n",
    "            goal_state['B'] = '0'\n",
    "            cost += 1\n",
    "            print(\"Cost:\", cost)\n",
    "            print(\"Location B has been Cleaned.\")\n",
    "        else:\n",
    "            print(\"Location B is already clean.\")\n",
    "    else:\n",
    "        print(\"Vacuum is placed in Location B\")\n",
    "        if status_input == '1':\n",
    "            print(\"Location B is Dirty.\")\n",
    "            goal_state['B'] = '0'\n",
    "            cost += 1\n",
    "            print(\"Cost:\", cost)\n",
    "            print(\"Location B has been Cleaned.\")\n",
    "        else:\n",
    "            print(\"Location B is already clean.\")\n",
    "        if status_input_complement == '1':\n",
    "            print(\"Location A is Dirty.\")\n",
    "            print(\"Moving LEFT to Location A.\")\n",
    "            cost += 1\n",
    "            print(\"Cost:\", cost)\n",
    "            goal_state['A'] = '0'\n",
    "            cost += 1\n",
    "            print(\"Cost:\", cost)\n",
    "            print(\"Location A has been Cleaned.\")\n",
    "        else:\n",
    "            print(\"Location A is already clean.\")\n",
    "\n",
    "    print(\"GOAL STATE:\", goal_state)\n",
    "    print(\"Performance Measurement:\", cost)\n",
    "\n",
    "vacuum_world()\n"
   ]
  },
  {
   "cell_type": "code",
   "execution_count": null,
   "id": "27c0d4a3-c19f-4eed-8d65-bbbd4b56465d",
   "metadata": {},
   "outputs": [],
   "source": []
  }
 ],
 "metadata": {
  "kernelspec": {
   "display_name": "Python [conda env:base] *",
   "language": "python",
   "name": "conda-base-py"
  },
  "language_info": {
   "codemirror_mode": {
    "name": "ipython",
    "version": 3
   },
   "file_extension": ".py",
   "mimetype": "text/x-python",
   "name": "python",
   "nbconvert_exporter": "python",
   "pygments_lexer": "ipython3",
   "version": "3.12.7"
  }
 },
 "nbformat": 4,
 "nbformat_minor": 5
}
